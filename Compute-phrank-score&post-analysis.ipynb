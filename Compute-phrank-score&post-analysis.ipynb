{
 "cells": [
  {
   "cell_type": "code",
   "execution_count": 2,
   "id": "231ee23c",
   "metadata": {},
   "outputs": [],
   "source": [
    "#!pip install phrank\n",
    "#!pip install umap\n",
    "#!pip uninstall umap\n",
    "#!pip install umap-learn\n",
    "#!pip install datashader\n",
    "#!pip install colorcet\n",
    "#!pip install holoviews\n",
    "\n",
    "import Phrank_modified as Phrank_modified\n",
    "import phrank_utils_modified as phrank_utils\n",
    "import pandas as pd\n",
    "import matplotlib.pyplot as plt\n",
    "from scipy import stats\n",
    "import numpy as np\n",
    "import umap.umap_ as umap\n",
    "import math\n"
   ]
  },
  {
   "cell_type": "code",
   "execution_count": 3,
   "id": "a528c5dd",
   "metadata": {},
   "outputs": [],
   "source": [
    "DAG=\"hpo_dag_2021-11-22.txt\"\n",
    "DISEASE_TO_PHENO=\"pheno_to_disease_2021-11-22.txt\"\n",
    "DISEASE_TO_GENE=\"gene_to_disease_2021-11-22.txt\"\n",
    "GENE_TO_PHENO=\"phenotype_to_gene_2021-11-22.txt\"\n",
    "PHENO_DICT=\"hpo_dict_sig_updated_fill_hpo.tsv\"\n",
    "\n",
    "p_hpo = Phrank_modified.Phrank(DAG, diseaseannotationsfile=DISEASE_TO_PHENO, diseasegenefile=DISEASE_TO_GENE,\\\n",
    "                               geneannotationsfile=GENE_TO_PHENO)\n",
    "\n"
   ]
  },
  {
   "cell_type": "code",
   "execution_count": 4,
   "id": "7127ad8e",
   "metadata": {},
   "outputs": [],
   "source": [
    "dag_file=pd.read_csv(DAG,sep='\\t',header=None)\n",
    "dis_pheno=pd.read_csv(DISEASE_TO_PHENO,sep='\\t',header=None)\n",
    "dis_gene=pd.read_csv(DISEASE_TO_GENE,sep='\\t',header=None)\n",
    "gene_pheno=pd.read_csv(GENE_TO_PHENO,sep='\\t',header=None)"
   ]
  },
  {
   "cell_type": "markdown",
   "id": "7fd0b3e5",
   "metadata": {},
   "source": [
    "# Read in HPO terms of 434 patients with at least one (out of 657) significant gene"
   ]
  },
  {
   "cell_type": "code",
   "execution_count": 5,
   "id": "ed031694",
   "metadata": {},
   "outputs": [],
   "source": [
    "pheno_dict=pd.read_csv(PHENO_DICT,sep='\\t')"
   ]
  },
  {
   "cell_type": "code",
   "execution_count": 6,
   "id": "97708711",
   "metadata": {},
   "outputs": [
    {
     "name": "stdout",
     "output_type": "stream",
     "text": [
      "The number of patients with HPO terms:  430\n"
     ]
    }
   ],
   "source": [
    "col_names_nan=pheno_dict.columns[pheno_dict.isna().any()].tolist()\n",
    "pheno_dict = pheno_dict.drop(col_names_nan, axis=1)\n",
    "print(\"The number of patients with HPO terms: \",len(pheno_dict.columns))"
   ]
  },
  {
   "cell_type": "markdown",
   "id": "cb3e6c96",
   "metadata": {},
   "source": [
    "# Compute pair-wise normalized similarity scores"
   ]
  },
  {
   "cell_type": "code",
   "execution_count": 7,
   "id": "a9f5d292",
   "metadata": {},
   "outputs": [],
   "source": [
    "#unscaled phrank score\n",
    "similarity_score=dict()\n",
    "for i in range(len(pheno_dict.columns)):\n",
    "    if i == len(pheno_dict.columns)-1:\n",
    "        break\n",
    "    phenotypeset1=pheno_dict[pheno_dict.columns[i]][0].split(\",\")\n",
    "    for j in range(i+1,len(pheno_dict.columns)):\n",
    "        phenotypeset2=pheno_dict[pheno_dict.columns[j]][0].split(\",\")\n",
    "        matchscore = p_hpo.compute_phenotype_match(phenotypeset1, phenotypeset2)\n",
    "        similarity_score[pheno_dict.columns[i]+'_'+pheno_dict.columns[j]]=matchscore\n",
    "        "
   ]
  },
  {
   "cell_type": "code",
   "execution_count": 8,
   "id": "9c6c1f0c",
   "metadata": {},
   "outputs": [
    {
     "data": {
      "text/plain": [
       "count    92235.000000\n",
       "mean        22.460308\n",
       "std         21.740182\n",
       "min          0.000984\n",
       "25%          8.142180\n",
       "50%         16.368360\n",
       "75%         29.876643\n",
       "max        560.870062\n",
       "dtype: float64"
      ]
     },
     "execution_count": 8,
     "metadata": {},
     "output_type": "execute_result"
    }
   ],
   "source": [
    "pd.Series(similarity_score.values()).describe()"
   ]
  },
  {
   "cell_type": "code",
   "execution_count": 9,
   "id": "c057f91f",
   "metadata": {},
   "outputs": [
    {
     "data": {
      "text/plain": [
       "(array([1.5204e+04, 1.7307e+04, 1.4697e+04, 1.1277e+04, 8.4500e+03,\n",
       "        6.2440e+03, 4.6840e+03, 3.5740e+03, 2.5280e+03, 1.9990e+03,\n",
       "        1.4150e+03, 1.0720e+03, 8.0900e+02, 6.2600e+02, 4.4200e+02,\n",
       "        3.3100e+02, 2.8700e+02, 2.3000e+02, 1.7500e+02, 1.5200e+02,\n",
       "        1.3500e+02, 1.1100e+02, 9.7000e+01, 7.4000e+01, 6.4000e+01,\n",
       "        5.0000e+01, 4.0000e+01, 4.0000e+01, 3.2000e+01, 2.6000e+01,\n",
       "        1.8000e+01, 3.0000e+00, 9.0000e+00, 5.0000e+00, 4.0000e+00,\n",
       "        2.0000e+00, 2.0000e+00, 3.0000e+00, 1.0000e+00, 1.0000e+00,\n",
       "        0.0000e+00, 0.0000e+00, 1.0000e+00, 0.0000e+00, 0.0000e+00,\n",
       "        1.0000e+00, 0.0000e+00, 0.0000e+00, 0.0000e+00, 0.0000e+00,\n",
       "        0.0000e+00, 0.0000e+00, 0.0000e+00, 1.0000e+00, 0.0000e+00,\n",
       "        0.0000e+00, 0.0000e+00, 0.0000e+00, 0.0000e+00, 0.0000e+00,\n",
       "        0.0000e+00, 0.0000e+00, 1.0000e+00, 1.0000e+00, 1.0000e+00,\n",
       "        0.0000e+00, 1.0000e+00, 0.0000e+00, 1.0000e+00, 0.0000e+00,\n",
       "        0.0000e+00, 0.0000e+00, 1.0000e+00, 1.0000e+00, 0.0000e+00,\n",
       "        0.0000e+00, 2.0000e+00, 0.0000e+00, 0.0000e+00, 0.0000e+00,\n",
       "        0.0000e+00, 1.0000e+00, 0.0000e+00, 0.0000e+00, 0.0000e+00,\n",
       "        1.0000e+00, 0.0000e+00, 0.0000e+00, 0.0000e+00, 0.0000e+00,\n",
       "        0.0000e+00, 0.0000e+00, 0.0000e+00, 0.0000e+00, 0.0000e+00,\n",
       "        0.0000e+00, 0.0000e+00, 0.0000e+00, 0.0000e+00, 1.0000e+00]),\n",
       " array([9.83991199e-04, 5.60967477e+00, 1.12183656e+01, 1.68270563e+01,\n",
       "        2.24357471e+01, 2.80444379e+01, 3.36531287e+01, 3.92618195e+01,\n",
       "        4.48705102e+01, 5.04792010e+01, 5.60878918e+01, 6.16965826e+01,\n",
       "        6.73052734e+01, 7.29139641e+01, 7.85226549e+01, 8.41313457e+01,\n",
       "        8.97400365e+01, 9.53487273e+01, 1.00957418e+02, 1.06566109e+02,\n",
       "        1.12174800e+02, 1.17783490e+02, 1.23392181e+02, 1.29000872e+02,\n",
       "        1.34609563e+02, 1.40218253e+02, 1.45826944e+02, 1.51435635e+02,\n",
       "        1.57044326e+02, 1.62653017e+02, 1.68261707e+02, 1.73870398e+02,\n",
       "        1.79479089e+02, 1.85087780e+02, 1.90696471e+02, 1.96305161e+02,\n",
       "        2.01913852e+02, 2.07522543e+02, 2.13131234e+02, 2.18739924e+02,\n",
       "        2.24348615e+02, 2.29957306e+02, 2.35565997e+02, 2.41174688e+02,\n",
       "        2.46783378e+02, 2.52392069e+02, 2.58000760e+02, 2.63609451e+02,\n",
       "        2.69218141e+02, 2.74826832e+02, 2.80435523e+02, 2.86044214e+02,\n",
       "        2.91652905e+02, 2.97261595e+02, 3.02870286e+02, 3.08478977e+02,\n",
       "        3.14087668e+02, 3.19696358e+02, 3.25305049e+02, 3.30913740e+02,\n",
       "        3.36522431e+02, 3.42131122e+02, 3.47739812e+02, 3.53348503e+02,\n",
       "        3.58957194e+02, 3.64565885e+02, 3.70174575e+02, 3.75783266e+02,\n",
       "        3.81391957e+02, 3.87000648e+02, 3.92609339e+02, 3.98218029e+02,\n",
       "        4.03826720e+02, 4.09435411e+02, 4.15044102e+02, 4.20652793e+02,\n",
       "        4.26261483e+02, 4.31870174e+02, 4.37478865e+02, 4.43087556e+02,\n",
       "        4.48696246e+02, 4.54304937e+02, 4.59913628e+02, 4.65522319e+02,\n",
       "        4.71131010e+02, 4.76739700e+02, 4.82348391e+02, 4.87957082e+02,\n",
       "        4.93565773e+02, 4.99174463e+02, 5.04783154e+02, 5.10391845e+02,\n",
       "        5.16000536e+02, 5.21609227e+02, 5.27217917e+02, 5.32826608e+02,\n",
       "        5.38435299e+02, 5.44043990e+02, 5.49652680e+02, 5.55261371e+02,\n",
       "        5.60870062e+02]),\n",
       " <BarContainer object of 100 artists>)"
      ]
     },
     "execution_count": 9,
     "metadata": {},
     "output_type": "execute_result"
    },
    {
     "data": {
      "image/png": "[encoded data removed]",
      "text/plain": [
       "<Figure size 432x288 with 1 Axes>"
      ]
     },
     "metadata": {
      "needs_background": "light"
     },
     "output_type": "display_data"
    }
   ],
   "source": [
    "num_bins = 100\n",
    "plt.hist(similarity_score.values(), num_bins, facecolor='blue', alpha=0.5)"
   ]
  },
  {
   "cell_type": "code",
   "execution_count": 10,
   "id": "c33c047e",
   "metadata": {},
   "outputs": [],
   "source": [
    "key_list = list(similarity_score.keys())\n",
    "val_list = list(similarity_score.values())"
   ]
  },
  {
   "cell_type": "code",
   "execution_count": 11,
   "id": "29acf857",
   "metadata": {},
   "outputs": [],
   "source": [
    "self_simi_score=dict()\n",
    "for pheno in pheno_dict.columns:\n",
    "    phenoset=pheno_dict[pheno][0].split(\",\")\n",
    "    \n",
    "    self_matchscore=p_hpo.compute_phenotype_match(phenoset, phenoset)\n",
    "    self_simi_score[pheno]=self_matchscore"
   ]
  },
  {
   "cell_type": "code",
   "execution_count": 12,
   "id": "e3987f6e",
   "metadata": {},
   "outputs": [],
   "source": [
    "#scaled/normalized phrank score\n",
    "scaled_simi_score=dict()\n",
    "for key in similarity_score:\n",
    "    key1=key.split('_')[0]\n",
    "    key2=key.split('_')[1]\n",
    "    denominator=max(self_simi_score[key1],self_simi_score[key2])\n",
    "    scaled_simi_score[key]=similarity_score[key]/denominator"
   ]
  },
  {
   "cell_type": "code",
   "execution_count": 13,
   "id": "bdbcccb7",
   "metadata": {},
   "outputs": [
    {
     "data": {
      "text/plain": [
       "count    92235.000000\n",
       "mean         0.085666\n",
       "std          0.057112\n",
       "min          0.000002\n",
       "25%          0.043992\n",
       "50%          0.076030\n",
       "75%          0.116803\n",
       "max          1.000000\n",
       "dtype: float64"
      ]
     },
     "execution_count": 13,
     "metadata": {},
     "output_type": "execute_result"
    }
   ],
   "source": [
    "pd.Series(scaled_simi_score.values()).describe()"
   ]
  },
  {
   "cell_type": "markdown",
   "id": "7f1022a8",
   "metadata": {},
   "source": [
    "# Compute average phrank score of patients based on primary symptom category\n",
    "## Still limit to patients with at least one (out of 657) significant gene"
   ]
  },
  {
   "cell_type": "code",
   "execution_count": 14,
   "id": "a7ebf37c",
   "metadata": {},
   "outputs": [
    {
     "name": "stderr",
     "output_type": "stream",
     "text": [
      "/var/folders/5c/cfggjvm95676mlbgvhwsvcxw0000gn/T/ipykernel_50513/3628530429.py:4: SettingWithCopyWarning: \n",
      "A value is trying to be set on a copy of a slice from a DataFrame\n",
      "\n",
      "See the caveats in the documentation: https://pandas.pydata.org/pandas-docs/stable/user_guide/indexing.html#returning-a-view-versus-a-copy\n",
      "  patients_primary_symp_category['neurology_ids'][1]=0\n"
     ]
    }
   ],
   "source": [
    "#average phrank score within group of patients with same primary symptoms\n",
    "patients_primary_symp_category=pd.read_csv(\"patients_primary_symp_category.tsv\",sep='\\t')\n",
    "patients_primary_symp_category.head()\n",
    "patients_primary_symp_category['neurology_ids'][1]=0"
   ]
  },
  {
   "cell_type": "code",
   "execution_count": 15,
   "id": "4904ccfc",
   "metadata": {},
   "outputs": [],
   "source": [
    "average_phrank_scores=[]\n",
    "empty_hpo_ids=[\"UDN258701\",\"UDN760284\",\"UDN102677\",\"UDN770442\"]\n",
    "for category in patients_primary_symp_category.columns:\n",
    "    if patients_primary_symp_category[category][0]!=patients_primary_symp_category[category][0]:\n",
    "        average_phrank_scores.append(0)\n",
    "        continue\n",
    "    ids=patients_primary_symp_category[category][0].split(\",\")\n",
    "    #print(ids)\n",
    "    if len(ids)==1:\n",
    "        average_phrank_scores.append(0)\n",
    "        continue\n",
    "    \n",
    "    for empty_id in empty_hpo_ids:\n",
    "        if empty_id in ids:\n",
    "            ids.remove(empty_id)\n",
    "            \n",
    "    category_phrank_score=0\n",
    "    for i,udn_id in enumerate(ids):\n",
    "        j=i+1\n",
    "        while j!=len(ids):\n",
    "            if udn_id+\"_\"+ids[j] in scaled_simi_score.keys():\n",
    "                category_phrank_score+=scaled_simi_score[udn_id+\"_\"+ids[j]]\n",
    "            elif ids[j]+\"_\"+udn_id in scaled_simi_score.keys():\n",
    "                category_phrank_score+=scaled_simi_score[ids[j]+\"_\"+udn_id]\n",
    "            else:\n",
    "                print(udn_id+\"_\"+ids[j])\n",
    "            j+=1\n",
    "    edge_num=len(ids)*(len(ids)-1)/2\n",
    "    average_phrank_scores.append(category_phrank_score/edge_num)\n",
    "                "
   ]
  },
  {
   "cell_type": "code",
   "execution_count": 16,
   "id": "150394fd",
   "metadata": {},
   "outputs": [
    {
     "data": {
      "text/plain": [
       "[0.09954947087680674,\n",
       " 0.12440141399017728,\n",
       " 0.0846073760504214,\n",
       " 0.13349292558955952,\n",
       " 0.13625477665429606,\n",
       " 0,\n",
       " 0.11476589596619051,\n",
       " 0.10815957723231145,\n",
       " 0.10878334807589846,\n",
       " 0.12540691183958613,\n",
       " 0.08149001107389732,\n",
       " 0,\n",
       " 0,\n",
       " 0.3667709043141975,\n",
       " 0,\n",
       " 0.07791585647930202,\n",
       " 0.08248033324930443,\n",
       " 0]"
      ]
     },
     "execution_count": 16,
     "metadata": {},
     "output_type": "execute_result"
    }
   ],
   "source": [
    "average_phrank_scores"
   ]
  },
  {
   "cell_type": "code",
   "execution_count": 18,
   "id": "19e77693",
   "metadata": {},
   "outputs": [
    {
     "name": "stdout",
     "output_type": "stream",
     "text": [
      "Number of pairs with similarity score > 90: 1557\n",
      "Number of pairs with scaled similarity score > 0.102319 (75%): 29933\n"
     ]
    }
   ],
   "source": [
    "print(\"Number of pairs with similarity score > 90: \"+str(len([val for val in val_list if val>90])))\n",
    "print(\"Number of pairs with scaled similarity score > 0.102319 (75%): \"+str(len([scaled_val for scaled_val in scaled_val_list if scaled_val>0.102319])))"
   ]
  },
  {
   "cell_type": "code",
   "execution_count": 19,
   "id": "7923f396",
   "metadata": {},
   "outputs": [
    {
     "name": "stdout",
     "output_type": "stream",
     "text": [
      "score for the top 5%  0.18991904634247728\n"
     ]
    }
   ],
   "source": [
    "ordered_scaled_scores=scaled_val_list\n",
    "ordered_scaled_scores.sort(reverse=True)\n",
    "len(ordered_scaled_scores)\n",
    "sorted_scaled_simi_score=dict(sorted(scaled_simi_score.items(), key=lambda item: item[1],reverse=True))\n",
    "print(\"cutscore for the top 5% \",ordered_scaled_scores[int(len(ordered_scaled_scores) * .05)])"
   ]
  },
  {
   "cell_type": "code",
   "execution_count": 20,
   "id": "9df6cd65",
   "metadata": {},
   "outputs": [
    {
     "name": "stdout",
     "output_type": "stream",
     "text": [
      "number of similar pairs with top5% scores:  4613\n"
     ]
    }
   ],
   "source": [
    "scaled_similar_pair=[]\n",
    "#ordered_scaled_scores=[scaled_val for scaled_val in scaled_val_list if scaled_val>0.1442532]\n",
    "#ordered_scaled_scores.sort(reverse=True)\n",
    "#top10_sorted_scaled_simi_score=[k for k, v in sorted_scaled_simi_score.items() if v > 0.1442531961606056]\n",
    "top5_sorted_scaled_simi_score = {}\n",
    "for k, v in sorted_scaled_simi_score.items():\n",
    "    if v > 0.1899:\n",
    "        top5_sorted_scaled_simi_score[k] = v\n",
    "\n",
    "for i in top5_sorted_scaled_simi_score.keys():\n",
    "    scaled_similar_set=set(i.split('_'))\n",
    "    scaled_similar_pair.append(scaled_similar_set)\n",
    "    \n",
    "print(\"number of similar pairs with top5% scores: \",len(scaled_similar_pair))"
   ]
  },
  {
   "cell_type": "code",
   "execution_count": 31,
   "id": "f2d17512",
   "metadata": {},
   "outputs": [
    {
     "data": {
      "text/plain": [
       "count    7052.000000\n",
       "mean        0.214971\n",
       "std         0.056168\n",
       "min         0.171784\n",
       "25%         0.184209\n",
       "50%         0.201404\n",
       "75%         0.229823\n",
       "max         1.000000\n",
       "dtype: float64"
      ]
     },
     "execution_count": 31,
     "metadata": {},
     "output_type": "execute_result"
    }
   ],
   "source": [
    "pd.Series(top5_sorted_scaled_simi_score.values()).describe()"
   ]
  },
  {
   "cell_type": "markdown",
   "id": "81783a77",
   "metadata": {},
   "source": [
    "# Compute p-value for each of the scaled phrank score\n",
    "## only significant p-values (<0.05)"
   ]
  },
  {
   "cell_type": "code",
   "execution_count": 21,
   "id": "d66f5030",
   "metadata": {},
   "outputs": [],
   "source": [
    "#compute p_values for pairs whose p-values < 0.05\n",
    "p_values=[]\n",
    "list(sorted_scaled_simi_score.items())[0]\n",
    "for index in range(len(sorted_scaled_simi_score)):\n",
    "    score=list(sorted_scaled_simi_score.values())[index]\n",
    "    if list(sorted_scaled_simi_score.values()).count(score)>1:\n",
    "        if index==len(sorted_scaled_simi_score)-1:\n",
    "            p_values.append(1)\n",
    "            break\n",
    "        dup_index=index+1\n",
    "        dup_score=list(sorted_scaled_simi_score.values())[dup_index]\n",
    "        while dup_score == score:\n",
    "            if dup_index!=len(sorted_scaled_simi_score)-1:\n",
    "                dup_index+=1\n",
    "                dup_score=list(sorted_scaled_simi_score.values())[dup_index]\n",
    "        p_value=dup_index/len(sorted_scaled_simi_score)\n",
    "        if p_value>0.05:\n",
    "            break\n",
    "        p_values.append(p_value)\n",
    "    else:\n",
    "        p_value=index/len(sorted_scaled_simi_score)\n",
    "        if p_value>0.05:\n",
    "            break\n",
    "        p_values.append(p_value)\n",
    "        \n",
    " "
   ]
  },
  {
   "cell_type": "code",
   "execution_count": 22,
   "id": "4a1ccbaf",
   "metadata": {},
   "outputs": [
    {
     "name": "stdout",
     "output_type": "stream",
     "text": [
      "The number of pairs with p-value <=0.05:  4611\n"
     ]
    },
    {
     "data": {
      "text/plain": [
       "('UDN789123_UDN764974', 0.18992276665315827, 0.04998102672521277)"
      ]
     },
     "execution_count": 22,
     "metadata": {},
     "output_type": "execute_result"
    }
   ],
   "source": [
    "print(\"The number of pairs with p-value <=0.05: \",len(p_values))\n",
    "\n",
    "list(sorted_scaled_simi_score.keys())[4610],list(sorted_scaled_simi_score.values())[4610],p_values[4610]\n"
   ]
  },
  {
   "cell_type": "code",
   "execution_count": 23,
   "id": "2c7c9ed4",
   "metadata": {},
   "outputs": [],
   "source": [
    "#unique udn ids with significant p-values for phrank score\n",
    "udn_id_sig_p_value=[]\n",
    "for pair in list(sorted_scaled_simi_score.keys())[0:len(p_values)]:\n",
    "    udn_pair=pair.split('_')\n",
    "    for individual in udn_pair:\n",
    "        if individual not in udn_id_sig_p_value:\n",
    "            udn_id_sig_p_value.append(individual)\n",
    "            \n"
   ]
  },
  {
   "cell_type": "code",
   "execution_count": 24,
   "id": "779e7113",
   "metadata": {},
   "outputs": [
    {
     "name": "stdout",
     "output_type": "stream",
     "text": [
      "The number of patients with siginificant phrank score:  425\n"
     ]
    }
   ],
   "source": [
    "print(\"The number of patients with siginificant phrank score: \",len(udn_id_sig_p_value))"
   ]
  },
  {
   "cell_type": "markdown",
   "id": "286ec198",
   "metadata": {},
   "source": [
    "# Create similarity score matrix for clustering and visualization"
   ]
  },
  {
   "cell_type": "code",
   "execution_count": 25,
   "id": "65321b3e",
   "metadata": {},
   "outputs": [],
   "source": [
    "similarity_matrix=pd.DataFrame(1, index=pheno_dict.columns, columns=pheno_dict.columns)"
   ]
  },
  {
   "cell_type": "code",
   "execution_count": 38,
   "id": "82ae939d",
   "metadata": {},
   "outputs": [
    {
     "name": "stderr",
     "output_type": "stream",
     "text": [
      "/var/folders/5c/cfggjvm95676mlbgvhwsvcxw0000gn/T/ipykernel_22101/3542350231.py:5: SettingWithCopyWarning: \n",
      "A value is trying to be set on a copy of a slice from a DataFrame\n",
      "\n",
      "See the caveats in the documentation: https://pandas.pydata.org/pandas-docs/stable/user_guide/indexing.html#returning-a-view-versus-a-copy\n",
      "  similarity_matrix[key1][key0]=scaled_simi_score[key]\n"
     ]
    },
    {
     "data": {
      "text/html": [
       "<div>\n",
       "<style scoped>\n",
       "    .dataframe tbody tr th:only-of-type {\n",
       "        vertical-align: middle;\n",
       "    }\n",
       "\n",
       "    .dataframe tbody tr th {\n",
       "        vertical-align: top;\n",
       "    }\n",
       "\n",
       "    .dataframe thead th {\n",
       "        text-align: right;\n",
       "    }\n",
       "</style>\n",
       "<table border=\"1\" class=\"dataframe\">\n",
       "  <thead>\n",
       "    <tr style=\"text-align: right;\">\n",
       "      <th></th>\n",
       "      <th>UDN480462</th>\n",
       "      <th>UDN018882</th>\n",
       "      <th>UDN229610</th>\n",
       "      <th>UDN765115</th>\n",
       "      <th>UDN499689</th>\n",
       "      <th>UDN970538</th>\n",
       "      <th>UDN786673</th>\n",
       "      <th>UDN560782</th>\n",
       "      <th>UDN765206</th>\n",
       "      <th>UDN849959</th>\n",
       "      <th>...</th>\n",
       "      <th>UDN278725</th>\n",
       "      <th>UDN343939</th>\n",
       "      <th>UDN033997</th>\n",
       "      <th>UDN795876</th>\n",
       "      <th>UDN010623</th>\n",
       "      <th>UDN490356</th>\n",
       "      <th>UDN117150</th>\n",
       "      <th>UDN452807</th>\n",
       "      <th>UDN658306</th>\n",
       "      <th>UDN699340</th>\n",
       "    </tr>\n",
       "  </thead>\n",
       "  <tbody>\n",
       "    <tr>\n",
       "      <th>UDN480462</th>\n",
       "      <td>1.000000</td>\n",
       "      <td>0.046036</td>\n",
       "      <td>0.097613</td>\n",
       "      <td>0.141218</td>\n",
       "      <td>0.089587</td>\n",
       "      <td>0.084373</td>\n",
       "      <td>0.092255</td>\n",
       "      <td>0.110780</td>\n",
       "      <td>0.235128</td>\n",
       "      <td>0.077337</td>\n",
       "      <td>...</td>\n",
       "      <td>0.066051</td>\n",
       "      <td>0.060649</td>\n",
       "      <td>0.036653</td>\n",
       "      <td>0.029682</td>\n",
       "      <td>0.056106</td>\n",
       "      <td>0.071729</td>\n",
       "      <td>0.077699</td>\n",
       "      <td>0.103312</td>\n",
       "      <td>0.076608</td>\n",
       "      <td>0.114175</td>\n",
       "    </tr>\n",
       "    <tr>\n",
       "      <th>UDN018882</th>\n",
       "      <td>0.046036</td>\n",
       "      <td>1.000000</td>\n",
       "      <td>0.069322</td>\n",
       "      <td>0.040394</td>\n",
       "      <td>0.089122</td>\n",
       "      <td>0.070195</td>\n",
       "      <td>0.073763</td>\n",
       "      <td>0.060091</td>\n",
       "      <td>0.074952</td>\n",
       "      <td>0.172416</td>\n",
       "      <td>...</td>\n",
       "      <td>0.133882</td>\n",
       "      <td>0.113188</td>\n",
       "      <td>0.143262</td>\n",
       "      <td>0.053353</td>\n",
       "      <td>0.113320</td>\n",
       "      <td>0.032905</td>\n",
       "      <td>0.026972</td>\n",
       "      <td>0.049413</td>\n",
       "      <td>0.166502</td>\n",
       "      <td>0.032707</td>\n",
       "    </tr>\n",
       "    <tr>\n",
       "      <th>UDN229610</th>\n",
       "      <td>0.097613</td>\n",
       "      <td>0.069322</td>\n",
       "      <td>1.000000</td>\n",
       "      <td>0.097417</td>\n",
       "      <td>0.065316</td>\n",
       "      <td>0.116573</td>\n",
       "      <td>0.146381</td>\n",
       "      <td>0.123270</td>\n",
       "      <td>0.134887</td>\n",
       "      <td>0.187787</td>\n",
       "      <td>...</td>\n",
       "      <td>0.130106</td>\n",
       "      <td>0.113208</td>\n",
       "      <td>0.054991</td>\n",
       "      <td>0.066679</td>\n",
       "      <td>0.067708</td>\n",
       "      <td>0.152158</td>\n",
       "      <td>0.070443</td>\n",
       "      <td>0.089973</td>\n",
       "      <td>0.098335</td>\n",
       "      <td>0.243275</td>\n",
       "    </tr>\n",
       "    <tr>\n",
       "      <th>UDN765115</th>\n",
       "      <td>0.141218</td>\n",
       "      <td>0.040394</td>\n",
       "      <td>0.097417</td>\n",
       "      <td>1.000000</td>\n",
       "      <td>0.111252</td>\n",
       "      <td>0.070481</td>\n",
       "      <td>0.059172</td>\n",
       "      <td>0.114527</td>\n",
       "      <td>0.137035</td>\n",
       "      <td>0.058384</td>\n",
       "      <td>...</td>\n",
       "      <td>0.055542</td>\n",
       "      <td>0.076792</td>\n",
       "      <td>0.101046</td>\n",
       "      <td>0.042779</td>\n",
       "      <td>0.096580</td>\n",
       "      <td>0.140461</td>\n",
       "      <td>0.069042</td>\n",
       "      <td>0.063222</td>\n",
       "      <td>0.034724</td>\n",
       "      <td>0.206060</td>\n",
       "    </tr>\n",
       "    <tr>\n",
       "      <th>UDN499689</th>\n",
       "      <td>0.089587</td>\n",
       "      <td>0.089122</td>\n",
       "      <td>0.065316</td>\n",
       "      <td>0.111252</td>\n",
       "      <td>1.000000</td>\n",
       "      <td>0.095212</td>\n",
       "      <td>0.087113</td>\n",
       "      <td>0.188172</td>\n",
       "      <td>0.086715</td>\n",
       "      <td>0.168929</td>\n",
       "      <td>...</td>\n",
       "      <td>0.153996</td>\n",
       "      <td>0.173312</td>\n",
       "      <td>0.111638</td>\n",
       "      <td>0.163039</td>\n",
       "      <td>0.215532</td>\n",
       "      <td>0.124064</td>\n",
       "      <td>0.080723</td>\n",
       "      <td>0.212211</td>\n",
       "      <td>0.093512</td>\n",
       "      <td>0.051881</td>\n",
       "    </tr>\n",
       "    <tr>\n",
       "      <th>...</th>\n",
       "      <td>...</td>\n",
       "      <td>...</td>\n",
       "      <td>...</td>\n",
       "      <td>...</td>\n",
       "      <td>...</td>\n",
       "      <td>...</td>\n",
       "      <td>...</td>\n",
       "      <td>...</td>\n",
       "      <td>...</td>\n",
       "      <td>...</td>\n",
       "      <td>...</td>\n",
       "      <td>...</td>\n",
       "      <td>...</td>\n",
       "      <td>...</td>\n",
       "      <td>...</td>\n",
       "      <td>...</td>\n",
       "      <td>...</td>\n",
       "      <td>...</td>\n",
       "      <td>...</td>\n",
       "      <td>...</td>\n",
       "      <td>...</td>\n",
       "    </tr>\n",
       "    <tr>\n",
       "      <th>UDN490356</th>\n",
       "      <td>0.071729</td>\n",
       "      <td>0.032905</td>\n",
       "      <td>0.152158</td>\n",
       "      <td>0.140461</td>\n",
       "      <td>0.124064</td>\n",
       "      <td>0.091853</td>\n",
       "      <td>0.127217</td>\n",
       "      <td>0.126024</td>\n",
       "      <td>0.136127</td>\n",
       "      <td>0.085382</td>\n",
       "      <td>...</td>\n",
       "      <td>0.138422</td>\n",
       "      <td>0.136995</td>\n",
       "      <td>0.055715</td>\n",
       "      <td>0.195035</td>\n",
       "      <td>0.105101</td>\n",
       "      <td>1.000000</td>\n",
       "      <td>0.071543</td>\n",
       "      <td>0.131576</td>\n",
       "      <td>0.099678</td>\n",
       "      <td>0.086286</td>\n",
       "    </tr>\n",
       "    <tr>\n",
       "      <th>UDN117150</th>\n",
       "      <td>0.077699</td>\n",
       "      <td>0.026972</td>\n",
       "      <td>0.070443</td>\n",
       "      <td>0.069042</td>\n",
       "      <td>0.080723</td>\n",
       "      <td>0.100562</td>\n",
       "      <td>0.096933</td>\n",
       "      <td>0.093142</td>\n",
       "      <td>0.124384</td>\n",
       "      <td>0.066646</td>\n",
       "      <td>...</td>\n",
       "      <td>0.024468</td>\n",
       "      <td>0.044967</td>\n",
       "      <td>0.036893</td>\n",
       "      <td>0.162648</td>\n",
       "      <td>0.058346</td>\n",
       "      <td>0.071543</td>\n",
       "      <td>1.000000</td>\n",
       "      <td>0.063533</td>\n",
       "      <td>0.031249</td>\n",
       "      <td>0.061168</td>\n",
       "    </tr>\n",
       "    <tr>\n",
       "      <th>UDN452807</th>\n",
       "      <td>0.103312</td>\n",
       "      <td>0.049413</td>\n",
       "      <td>0.089973</td>\n",
       "      <td>0.063222</td>\n",
       "      <td>0.212211</td>\n",
       "      <td>0.118324</td>\n",
       "      <td>0.133620</td>\n",
       "      <td>0.160848</td>\n",
       "      <td>0.074323</td>\n",
       "      <td>0.075983</td>\n",
       "      <td>...</td>\n",
       "      <td>0.193336</td>\n",
       "      <td>0.245558</td>\n",
       "      <td>0.052516</td>\n",
       "      <td>0.113036</td>\n",
       "      <td>0.094876</td>\n",
       "      <td>0.131576</td>\n",
       "      <td>0.063533</td>\n",
       "      <td>1.000000</td>\n",
       "      <td>0.130552</td>\n",
       "      <td>0.064881</td>\n",
       "    </tr>\n",
       "    <tr>\n",
       "      <th>UDN658306</th>\n",
       "      <td>0.076608</td>\n",
       "      <td>0.166502</td>\n",
       "      <td>0.098335</td>\n",
       "      <td>0.034724</td>\n",
       "      <td>0.093512</td>\n",
       "      <td>0.101108</td>\n",
       "      <td>0.097833</td>\n",
       "      <td>0.101897</td>\n",
       "      <td>0.105783</td>\n",
       "      <td>0.133941</td>\n",
       "      <td>...</td>\n",
       "      <td>0.173178</td>\n",
       "      <td>0.318018</td>\n",
       "      <td>0.086482</td>\n",
       "      <td>0.091622</td>\n",
       "      <td>0.111180</td>\n",
       "      <td>0.099678</td>\n",
       "      <td>0.031249</td>\n",
       "      <td>0.130552</td>\n",
       "      <td>1.000000</td>\n",
       "      <td>0.041519</td>\n",
       "    </tr>\n",
       "    <tr>\n",
       "      <th>UDN699340</th>\n",
       "      <td>0.114175</td>\n",
       "      <td>0.032707</td>\n",
       "      <td>0.243275</td>\n",
       "      <td>0.206060</td>\n",
       "      <td>0.051881</td>\n",
       "      <td>0.099298</td>\n",
       "      <td>0.082599</td>\n",
       "      <td>0.121564</td>\n",
       "      <td>0.172973</td>\n",
       "      <td>0.079224</td>\n",
       "      <td>...</td>\n",
       "      <td>0.070846</td>\n",
       "      <td>0.048946</td>\n",
       "      <td>0.037110</td>\n",
       "      <td>0.044219</td>\n",
       "      <td>0.119881</td>\n",
       "      <td>0.086286</td>\n",
       "      <td>0.061168</td>\n",
       "      <td>0.064881</td>\n",
       "      <td>0.041519</td>\n",
       "      <td>1.000000</td>\n",
       "    </tr>\n",
       "  </tbody>\n",
       "</table>\n",
       "<p>430 rows × 430 columns</p>\n",
       "</div>"
      ],
      "text/plain": [
       "           UDN480462  UDN018882  UDN229610  UDN765115  UDN499689  UDN970538  \\\n",
       "UDN480462   1.000000   0.046036   0.097613   0.141218   0.089587   0.084373   \n",
       "UDN018882   0.046036   1.000000   0.069322   0.040394   0.089122   0.070195   \n",
       "UDN229610   0.097613   0.069322   1.000000   0.097417   0.065316   0.116573   \n",
       "UDN765115   0.141218   0.040394   0.097417   1.000000   0.111252   0.070481   \n",
       "UDN499689   0.089587   0.089122   0.065316   0.111252   1.000000   0.095212   \n",
       "...              ...        ...        ...        ...        ...        ...   \n",
       "UDN490356   0.071729   0.032905   0.152158   0.140461   0.124064   0.091853   \n",
       "UDN117150   0.077699   0.026972   0.070443   0.069042   0.080723   0.100562   \n",
       "UDN452807   0.103312   0.049413   0.089973   0.063222   0.212211   0.118324   \n",
       "UDN658306   0.076608   0.166502   0.098335   0.034724   0.093512   0.101108   \n",
       "UDN699340   0.114175   0.032707   0.243275   0.206060   0.051881   0.099298   \n",
       "\n",
       "           UDN786673  UDN560782  UDN765206  UDN849959  ...  UDN278725  \\\n",
       "UDN480462   0.092255   0.110780   0.235128   0.077337  ...   0.066051   \n",
       "UDN018882   0.073763   0.060091   0.074952   0.172416  ...   0.133882   \n",
       "UDN229610   0.146381   0.123270   0.134887   0.187787  ...   0.130106   \n",
       "UDN765115   0.059172   0.114527   0.137035   0.058384  ...   0.055542   \n",
       "UDN499689   0.087113   0.188172   0.086715   0.168929  ...   0.153996   \n",
       "...              ...        ...        ...        ...  ...        ...   \n",
       "UDN490356   0.127217   0.126024   0.136127   0.085382  ...   0.138422   \n",
       "UDN117150   0.096933   0.093142   0.124384   0.066646  ...   0.024468   \n",
       "UDN452807   0.133620   0.160848   0.074323   0.075983  ...   0.193336   \n",
       "UDN658306   0.097833   0.101897   0.105783   0.133941  ...   0.173178   \n",
       "UDN699340   0.082599   0.121564   0.172973   0.079224  ...   0.070846   \n",
       "\n",
       "           UDN343939  UDN033997  UDN795876  UDN010623  UDN490356  UDN117150  \\\n",
       "UDN480462   0.060649   0.036653   0.029682   0.056106   0.071729   0.077699   \n",
       "UDN018882   0.113188   0.143262   0.053353   0.113320   0.032905   0.026972   \n",
       "UDN229610   0.113208   0.054991   0.066679   0.067708   0.152158   0.070443   \n",
       "UDN765115   0.076792   0.101046   0.042779   0.096580   0.140461   0.069042   \n",
       "UDN499689   0.173312   0.111638   0.163039   0.215532   0.124064   0.080723   \n",
       "...              ...        ...        ...        ...        ...        ...   \n",
       "UDN490356   0.136995   0.055715   0.195035   0.105101   1.000000   0.071543   \n",
       "UDN117150   0.044967   0.036893   0.162648   0.058346   0.071543   1.000000   \n",
       "UDN452807   0.245558   0.052516   0.113036   0.094876   0.131576   0.063533   \n",
       "UDN658306   0.318018   0.086482   0.091622   0.111180   0.099678   0.031249   \n",
       "UDN699340   0.048946   0.037110   0.044219   0.119881   0.086286   0.061168   \n",
       "\n",
       "           UDN452807  UDN658306  UDN699340  \n",
       "UDN480462   0.103312   0.076608   0.114175  \n",
       "UDN018882   0.049413   0.166502   0.032707  \n",
       "UDN229610   0.089973   0.098335   0.243275  \n",
       "UDN765115   0.063222   0.034724   0.206060  \n",
       "UDN499689   0.212211   0.093512   0.051881  \n",
       "...              ...        ...        ...  \n",
       "UDN490356   0.131576   0.099678   0.086286  \n",
       "UDN117150   0.063533   0.031249   0.061168  \n",
       "UDN452807   1.000000   0.130552   0.064881  \n",
       "UDN658306   0.130552   1.000000   0.041519  \n",
       "UDN699340   0.064881   0.041519   1.000000  \n",
       "\n",
       "[430 rows x 430 columns]"
      ]
     },
     "execution_count": 38,
     "metadata": {},
     "output_type": "execute_result"
    }
   ],
   "source": [
    "for key in scaled_simi_score.keys():\n",
    "    key0=key.split(\"_\")[0]\n",
    "    key1=key.split(\"_\")[1]\n",
    "    similarity_matrix[key0][key1]=scaled_simi_score[key]\n",
    "    similarity_matrix[key1][key0]=scaled_simi_score[key]\n",
    "similarity_matrix      "
   ]
  },
  {
   "cell_type": "code",
   "execution_count": 39,
   "id": "ccd164d0",
   "metadata": {},
   "outputs": [],
   "source": [
    "#similarity_matrix.to_csv(\"similarity_matrix.csv\")"
   ]
  },
  {
   "cell_type": "code",
   "execution_count": 40,
   "id": "bfbff83a",
   "metadata": {},
   "outputs": [],
   "source": [
    "similarity_matrix_sig_p_value=pd.DataFrame(1, index=udn_id_sig_p_value, columns=udn_id_sig_p_value)"
   ]
  },
  {
   "cell_type": "code",
   "execution_count": 41,
   "id": "5b97ddeb",
   "metadata": {},
   "outputs": [
    {
     "name": "stderr",
     "output_type": "stream",
     "text": [
      "/var/folders/5c/cfggjvm95676mlbgvhwsvcxw0000gn/T/ipykernel_22101/2840444360.py:8: SettingWithCopyWarning: \n",
      "A value is trying to be set on a copy of a slice from a DataFrame\n",
      "\n",
      "See the caveats in the documentation: https://pandas.pydata.org/pandas-docs/stable/user_guide/indexing.html#returning-a-view-versus-a-copy\n",
      "  similarity_matrix_sig_p_value[key1][key0]=sorted_scaled_simi_score[key]\n",
      "/var/folders/5c/cfggjvm95676mlbgvhwsvcxw0000gn/T/ipykernel_22101/2840444360.py:7: SettingWithCopyWarning: \n",
      "A value is trying to be set on a copy of a slice from a DataFrame\n",
      "\n",
      "See the caveats in the documentation: https://pandas.pydata.org/pandas-docs/stable/user_guide/indexing.html#returning-a-view-versus-a-copy\n",
      "  similarity_matrix_sig_p_value[key0][key1]=sorted_scaled_simi_score[key]\n"
     ]
    },
    {
     "data": {
      "text/html": [
       "<div>\n",
       "<style scoped>\n",
       "    .dataframe tbody tr th:only-of-type {\n",
       "        vertical-align: middle;\n",
       "    }\n",
       "\n",
       "    .dataframe tbody tr th {\n",
       "        vertical-align: top;\n",
       "    }\n",
       "\n",
       "    .dataframe thead th {\n",
       "        text-align: right;\n",
       "    }\n",
       "</style>\n",
       "<table border=\"1\" class=\"dataframe\">\n",
       "  <thead>\n",
       "    <tr style=\"text-align: right;\">\n",
       "      <th></th>\n",
       "      <th>UDN480462</th>\n",
       "      <th>UDN202218</th>\n",
       "      <th>UDN615361</th>\n",
       "      <th>UDN608261</th>\n",
       "      <th>UDN166867</th>\n",
       "      <th>UDN615127</th>\n",
       "      <th>UDN323373</th>\n",
       "      <th>UDN182483</th>\n",
       "      <th>UDN955918</th>\n",
       "      <th>UDN881997</th>\n",
       "      <th>...</th>\n",
       "      <th>UDN686410</th>\n",
       "      <th>UDN185245</th>\n",
       "      <th>UDN032050</th>\n",
       "      <th>UDN829699</th>\n",
       "      <th>UDN310485</th>\n",
       "      <th>UDN764074</th>\n",
       "      <th>UDN148702</th>\n",
       "      <th>UDN941156</th>\n",
       "      <th>UDN500889</th>\n",
       "      <th>UDN945671</th>\n",
       "    </tr>\n",
       "  </thead>\n",
       "  <tbody>\n",
       "    <tr>\n",
       "      <th>UDN480462</th>\n",
       "      <td>1.000000</td>\n",
       "      <td>1.000000</td>\n",
       "      <td>0.100179</td>\n",
       "      <td>0.100179</td>\n",
       "      <td>0.000008</td>\n",
       "      <td>0.000008</td>\n",
       "      <td>0.194511</td>\n",
       "      <td>0.194511</td>\n",
       "      <td>0.024901</td>\n",
       "      <td>0.024901</td>\n",
       "      <td>...</td>\n",
       "      <td>0.101237</td>\n",
       "      <td>0.061569</td>\n",
       "      <td>0.012571</td>\n",
       "      <td>0.071926</td>\n",
       "      <td>0.017864</td>\n",
       "      <td>0.065166</td>\n",
       "      <td>0.048873</td>\n",
       "      <td>0.085870</td>\n",
       "      <td>0.075538</td>\n",
       "      <td>0.040109</td>\n",
       "    </tr>\n",
       "    <tr>\n",
       "      <th>UDN202218</th>\n",
       "      <td>1.000000</td>\n",
       "      <td>1.000000</td>\n",
       "      <td>0.100179</td>\n",
       "      <td>0.100179</td>\n",
       "      <td>0.000008</td>\n",
       "      <td>0.000008</td>\n",
       "      <td>0.194511</td>\n",
       "      <td>0.194511</td>\n",
       "      <td>0.024901</td>\n",
       "      <td>0.024901</td>\n",
       "      <td>...</td>\n",
       "      <td>0.101237</td>\n",
       "      <td>0.061569</td>\n",
       "      <td>0.012571</td>\n",
       "      <td>0.071926</td>\n",
       "      <td>0.017864</td>\n",
       "      <td>0.065166</td>\n",
       "      <td>0.048873</td>\n",
       "      <td>0.085870</td>\n",
       "      <td>0.075538</td>\n",
       "      <td>0.040109</td>\n",
       "    </tr>\n",
       "    <tr>\n",
       "      <th>UDN615361</th>\n",
       "      <td>0.100179</td>\n",
       "      <td>0.100179</td>\n",
       "      <td>1.000000</td>\n",
       "      <td>1.000000</td>\n",
       "      <td>0.007736</td>\n",
       "      <td>0.007736</td>\n",
       "      <td>0.138723</td>\n",
       "      <td>0.138723</td>\n",
       "      <td>0.066392</td>\n",
       "      <td>0.066392</td>\n",
       "      <td>...</td>\n",
       "      <td>0.085526</td>\n",
       "      <td>0.060241</td>\n",
       "      <td>0.025231</td>\n",
       "      <td>0.089641</td>\n",
       "      <td>0.000009</td>\n",
       "      <td>0.078235</td>\n",
       "      <td>0.072032</td>\n",
       "      <td>0.131543</td>\n",
       "      <td>0.075180</td>\n",
       "      <td>0.103842</td>\n",
       "    </tr>\n",
       "    <tr>\n",
       "      <th>UDN608261</th>\n",
       "      <td>0.100179</td>\n",
       "      <td>0.100179</td>\n",
       "      <td>1.000000</td>\n",
       "      <td>1.000000</td>\n",
       "      <td>0.007736</td>\n",
       "      <td>0.007736</td>\n",
       "      <td>0.138723</td>\n",
       "      <td>0.138723</td>\n",
       "      <td>0.066392</td>\n",
       "      <td>0.066392</td>\n",
       "      <td>...</td>\n",
       "      <td>0.085526</td>\n",
       "      <td>0.060241</td>\n",
       "      <td>0.025231</td>\n",
       "      <td>0.089641</td>\n",
       "      <td>0.000009</td>\n",
       "      <td>0.078235</td>\n",
       "      <td>0.072032</td>\n",
       "      <td>0.131543</td>\n",
       "      <td>0.075180</td>\n",
       "      <td>0.103842</td>\n",
       "    </tr>\n",
       "    <tr>\n",
       "      <th>UDN166867</th>\n",
       "      <td>0.000008</td>\n",
       "      <td>0.000008</td>\n",
       "      <td>0.007736</td>\n",
       "      <td>0.007736</td>\n",
       "      <td>1.000000</td>\n",
       "      <td>1.000000</td>\n",
       "      <td>0.000006</td>\n",
       "      <td>0.000006</td>\n",
       "      <td>0.072256</td>\n",
       "      <td>0.072256</td>\n",
       "      <td>...</td>\n",
       "      <td>0.025731</td>\n",
       "      <td>0.000008</td>\n",
       "      <td>0.000008</td>\n",
       "      <td>0.013518</td>\n",
       "      <td>0.000008</td>\n",
       "      <td>0.007736</td>\n",
       "      <td>0.000008</td>\n",
       "      <td>0.004916</td>\n",
       "      <td>0.000008</td>\n",
       "      <td>0.046191</td>\n",
       "    </tr>\n",
       "    <tr>\n",
       "      <th>...</th>\n",
       "      <td>...</td>\n",
       "      <td>...</td>\n",
       "      <td>...</td>\n",
       "      <td>...</td>\n",
       "      <td>...</td>\n",
       "      <td>...</td>\n",
       "      <td>...</td>\n",
       "      <td>...</td>\n",
       "      <td>...</td>\n",
       "      <td>...</td>\n",
       "      <td>...</td>\n",
       "      <td>...</td>\n",
       "      <td>...</td>\n",
       "      <td>...</td>\n",
       "      <td>...</td>\n",
       "      <td>...</td>\n",
       "      <td>...</td>\n",
       "      <td>...</td>\n",
       "      <td>...</td>\n",
       "      <td>...</td>\n",
       "      <td>...</td>\n",
       "    </tr>\n",
       "    <tr>\n",
       "      <th>UDN764074</th>\n",
       "      <td>0.065166</td>\n",
       "      <td>0.065166</td>\n",
       "      <td>0.078235</td>\n",
       "      <td>0.078235</td>\n",
       "      <td>0.007736</td>\n",
       "      <td>0.007736</td>\n",
       "      <td>0.032564</td>\n",
       "      <td>0.032564</td>\n",
       "      <td>0.058843</td>\n",
       "      <td>0.058843</td>\n",
       "      <td>...</td>\n",
       "      <td>0.006859</td>\n",
       "      <td>0.000013</td>\n",
       "      <td>0.000024</td>\n",
       "      <td>0.046753</td>\n",
       "      <td>0.000024</td>\n",
       "      <td>1.000000</td>\n",
       "      <td>0.055168</td>\n",
       "      <td>0.104663</td>\n",
       "      <td>0.000018</td>\n",
       "      <td>0.008734</td>\n",
       "    </tr>\n",
       "    <tr>\n",
       "      <th>UDN148702</th>\n",
       "      <td>0.048873</td>\n",
       "      <td>0.048873</td>\n",
       "      <td>0.072032</td>\n",
       "      <td>0.072032</td>\n",
       "      <td>0.000008</td>\n",
       "      <td>0.000008</td>\n",
       "      <td>0.055951</td>\n",
       "      <td>0.055951</td>\n",
       "      <td>0.019422</td>\n",
       "      <td>0.019422</td>\n",
       "      <td>...</td>\n",
       "      <td>0.090811</td>\n",
       "      <td>0.120575</td>\n",
       "      <td>0.037023</td>\n",
       "      <td>0.048572</td>\n",
       "      <td>0.011543</td>\n",
       "      <td>0.055168</td>\n",
       "      <td>1.000000</td>\n",
       "      <td>0.034065</td>\n",
       "      <td>0.123178</td>\n",
       "      <td>0.039679</td>\n",
       "    </tr>\n",
       "    <tr>\n",
       "      <th>UDN941156</th>\n",
       "      <td>0.085870</td>\n",
       "      <td>0.085870</td>\n",
       "      <td>0.131543</td>\n",
       "      <td>0.131543</td>\n",
       "      <td>0.004916</td>\n",
       "      <td>0.004916</td>\n",
       "      <td>0.039463</td>\n",
       "      <td>0.039463</td>\n",
       "      <td>0.045688</td>\n",
       "      <td>0.045688</td>\n",
       "      <td>...</td>\n",
       "      <td>0.020872</td>\n",
       "      <td>0.022754</td>\n",
       "      <td>0.000015</td>\n",
       "      <td>0.062758</td>\n",
       "      <td>0.000015</td>\n",
       "      <td>0.104663</td>\n",
       "      <td>0.034065</td>\n",
       "      <td>1.000000</td>\n",
       "      <td>0.026710</td>\n",
       "      <td>0.081862</td>\n",
       "    </tr>\n",
       "    <tr>\n",
       "      <th>UDN500889</th>\n",
       "      <td>0.075538</td>\n",
       "      <td>0.075538</td>\n",
       "      <td>0.075180</td>\n",
       "      <td>0.075180</td>\n",
       "      <td>0.000008</td>\n",
       "      <td>0.000008</td>\n",
       "      <td>0.117413</td>\n",
       "      <td>0.117413</td>\n",
       "      <td>0.000009</td>\n",
       "      <td>0.000009</td>\n",
       "      <td>...</td>\n",
       "      <td>0.043710</td>\n",
       "      <td>0.134067</td>\n",
       "      <td>0.052492</td>\n",
       "      <td>0.031670</td>\n",
       "      <td>0.000018</td>\n",
       "      <td>0.000018</td>\n",
       "      <td>0.123178</td>\n",
       "      <td>0.026710</td>\n",
       "      <td>1.000000</td>\n",
       "      <td>0.051884</td>\n",
       "    </tr>\n",
       "    <tr>\n",
       "      <th>UDN945671</th>\n",
       "      <td>0.040109</td>\n",
       "      <td>0.040109</td>\n",
       "      <td>0.103842</td>\n",
       "      <td>0.103842</td>\n",
       "      <td>0.046191</td>\n",
       "      <td>0.046191</td>\n",
       "      <td>0.032667</td>\n",
       "      <td>0.032667</td>\n",
       "      <td>0.042215</td>\n",
       "      <td>0.042215</td>\n",
       "      <td>...</td>\n",
       "      <td>0.024955</td>\n",
       "      <td>0.070489</td>\n",
       "      <td>0.009201</td>\n",
       "      <td>0.077083</td>\n",
       "      <td>0.013075</td>\n",
       "      <td>0.008734</td>\n",
       "      <td>0.039679</td>\n",
       "      <td>0.081862</td>\n",
       "      <td>0.051884</td>\n",
       "      <td>1.000000</td>\n",
       "    </tr>\n",
       "  </tbody>\n",
       "</table>\n",
       "<p>425 rows × 425 columns</p>\n",
       "</div>"
      ],
      "text/plain": [
       "           UDN480462  UDN202218  UDN615361  UDN608261  UDN166867  UDN615127  \\\n",
       "UDN480462   1.000000   1.000000   0.100179   0.100179   0.000008   0.000008   \n",
       "UDN202218   1.000000   1.000000   0.100179   0.100179   0.000008   0.000008   \n",
       "UDN615361   0.100179   0.100179   1.000000   1.000000   0.007736   0.007736   \n",
       "UDN608261   0.100179   0.100179   1.000000   1.000000   0.007736   0.007736   \n",
       "UDN166867   0.000008   0.000008   0.007736   0.007736   1.000000   1.000000   \n",
       "...              ...        ...        ...        ...        ...        ...   \n",
       "UDN764074   0.065166   0.065166   0.078235   0.078235   0.007736   0.007736   \n",
       "UDN148702   0.048873   0.048873   0.072032   0.072032   0.000008   0.000008   \n",
       "UDN941156   0.085870   0.085870   0.131543   0.131543   0.004916   0.004916   \n",
       "UDN500889   0.075538   0.075538   0.075180   0.075180   0.000008   0.000008   \n",
       "UDN945671   0.040109   0.040109   0.103842   0.103842   0.046191   0.046191   \n",
       "\n",
       "           UDN323373  UDN182483  UDN955918  UDN881997  ...  UDN686410  \\\n",
       "UDN480462   0.194511   0.194511   0.024901   0.024901  ...   0.101237   \n",
       "UDN202218   0.194511   0.194511   0.024901   0.024901  ...   0.101237   \n",
       "UDN615361   0.138723   0.138723   0.066392   0.066392  ...   0.085526   \n",
       "UDN608261   0.138723   0.138723   0.066392   0.066392  ...   0.085526   \n",
       "UDN166867   0.000006   0.000006   0.072256   0.072256  ...   0.025731   \n",
       "...              ...        ...        ...        ...  ...        ...   \n",
       "UDN764074   0.032564   0.032564   0.058843   0.058843  ...   0.006859   \n",
       "UDN148702   0.055951   0.055951   0.019422   0.019422  ...   0.090811   \n",
       "UDN941156   0.039463   0.039463   0.045688   0.045688  ...   0.020872   \n",
       "UDN500889   0.117413   0.117413   0.000009   0.000009  ...   0.043710   \n",
       "UDN945671   0.032667   0.032667   0.042215   0.042215  ...   0.024955   \n",
       "\n",
       "           UDN185245  UDN032050  UDN829699  UDN310485  UDN764074  UDN148702  \\\n",
       "UDN480462   0.061569   0.012571   0.071926   0.017864   0.065166   0.048873   \n",
       "UDN202218   0.061569   0.012571   0.071926   0.017864   0.065166   0.048873   \n",
       "UDN615361   0.060241   0.025231   0.089641   0.000009   0.078235   0.072032   \n",
       "UDN608261   0.060241   0.025231   0.089641   0.000009   0.078235   0.072032   \n",
       "UDN166867   0.000008   0.000008   0.013518   0.000008   0.007736   0.000008   \n",
       "...              ...        ...        ...        ...        ...        ...   \n",
       "UDN764074   0.000013   0.000024   0.046753   0.000024   1.000000   0.055168   \n",
       "UDN148702   0.120575   0.037023   0.048572   0.011543   0.055168   1.000000   \n",
       "UDN941156   0.022754   0.000015   0.062758   0.000015   0.104663   0.034065   \n",
       "UDN500889   0.134067   0.052492   0.031670   0.000018   0.000018   0.123178   \n",
       "UDN945671   0.070489   0.009201   0.077083   0.013075   0.008734   0.039679   \n",
       "\n",
       "           UDN941156  UDN500889  UDN945671  \n",
       "UDN480462   0.085870   0.075538   0.040109  \n",
       "UDN202218   0.085870   0.075538   0.040109  \n",
       "UDN615361   0.131543   0.075180   0.103842  \n",
       "UDN608261   0.131543   0.075180   0.103842  \n",
       "UDN166867   0.004916   0.000008   0.046191  \n",
       "...              ...        ...        ...  \n",
       "UDN764074   0.104663   0.000018   0.008734  \n",
       "UDN148702   0.034065   0.123178   0.039679  \n",
       "UDN941156   1.000000   0.026710   0.081862  \n",
       "UDN500889   0.026710   1.000000   0.051884  \n",
       "UDN945671   0.081862   0.051884   1.000000  \n",
       "\n",
       "[425 rows x 425 columns]"
      ]
     },
     "execution_count": 41,
     "metadata": {},
     "output_type": "execute_result"
    }
   ],
   "source": [
    "for key in sorted_scaled_simi_score.keys():\n",
    "    #print(key)\n",
    "    key0=key.split(\"_\")[0]\n",
    "    key1=key.split(\"_\")[1]\n",
    "    if key0 not in udn_id_sig_p_value or key1 not in udn_id_sig_p_value:\n",
    "        continue\n",
    "    similarity_matrix_sig_p_value[key0][key1]=sorted_scaled_simi_score[key]\n",
    "    similarity_matrix_sig_p_value[key1][key0]=sorted_scaled_simi_score[key]\n",
    "similarity_matrix_sig_p_value "
   ]
  },
  {
   "cell_type": "code",
   "execution_count": 42,
   "id": "f1876ceb",
   "metadata": {},
   "outputs": [],
   "source": [
    "#similarity_matrix_sig_p_value.to_csv(\"similarity_matrix_sig_p_value.csv\")"
   ]
  },
  {
   "cell_type": "code",
   "execution_count": 43,
   "id": "800215b1",
   "metadata": {},
   "outputs": [],
   "source": [
    "standard_embedding = umap.UMAP(random_state=42).fit_transform(similarity_matrix)\n",
    "standard_embedding_sig = umap.UMAP(random_state=42).fit_transform(similarity_matrix_sig_p_value)"
   ]
  },
  {
   "cell_type": "code",
   "execution_count": 44,
   "id": "1124904a",
   "metadata": {},
   "outputs": [],
   "source": [
    "mapper=umap.UMAP(random_state=42).fit(similarity_matrix)\n",
    "mapper_sig=umap.UMAP(random_state=42).fit(similarity_matrix_sig_p_value)"
   ]
  },
  {
   "cell_type": "code",
   "execution_count": 45,
   "id": "962ee7a1",
   "metadata": {},
   "outputs": [
    {
     "name": "stderr",
     "output_type": "stream",
     "text": [
      "*c* argument looks like a single numeric RGB or RGBA sequence, which should be avoided as value-mapping will have precedence in case its length matches with *x* & *y*.  Please use the *color* keyword-argument or provide a 2D array with a single row if you intend to specify the same RGB or RGBA value for all points.\n",
      "*c* argument looks like a single numeric RGB or RGBA sequence, which should be avoided as value-mapping will have precedence in case its length matches with *x* & *y*.  Please use the *color* keyword-argument or provide a 2D array with a single row if you intend to specify the same RGB or RGBA value for all points.\n"
     ]
    },
    {
     "data": {
      "text/plain": [
       "<AxesSubplot:>"
      ]
     },
     "execution_count": 45,
     "metadata": {},
     "output_type": "execute_result"
    },
    {
     "data": {
      "image/png": "[encoded data removed]",
      "text/plain": [
       "<Figure size 800x800 with 1 Axes>"
      ]
     },
     "metadata": {},
     "output_type": "display_data"
    },
    {
     "data": {
      "image/png": "[encoded data removed]",
      "text/plain": [
       "<Figure size 800x800 with 1 Axes>"
      ]
     },
     "metadata": {},
     "output_type": "display_data"
    }
   ],
   "source": [
    "import umap.plot\n",
    "umap.plot.points(mapper)\n",
    "umap.plot.points(mapper_sig)"
   ]
  },
  {
   "cell_type": "code",
   "execution_count": 46,
   "id": "2d826ce4",
   "metadata": {},
   "outputs": [
    {
     "data": {
      "text/plain": [
       "<matplotlib.collections.PathCollection at 0x1532f5100>"
      ]
     },
     "execution_count": 46,
     "metadata": {},
     "output_type": "execute_result"
    },
    {
     "data": {
      "image/png": "[encoded data removed]",
      "text/plain": [
       "<Figure size 432x288 with 1 Axes>"
      ]
     },
     "metadata": {
      "needs_background": "light"
     },
     "output_type": "display_data"
    }
   ],
   "source": [
    "plt.scatter(standard_embedding[:, 0], standard_embedding[:, 1])\n",
    "plt.scatter(standard_embedding_sig[:, 0], standard_embedding_sig[:, 1])"
   ]
  },
  {
   "cell_type": "markdown",
   "id": "eb3fddc8",
   "metadata": {},
   "source": [
    "# Compute gene-patient phrank scores"
   ]
  },
  {
   "cell_type": "code",
   "execution_count": 26,
   "id": "8612861d",
   "metadata": {},
   "outputs": [],
   "source": [
    "annotated_file=\"Denovowest_result_annotated_restricted_udn_X_affected_657.tsv\"\n",
    "annotated_udn_X_denovo=pd.read_csv(annotated_file,sep='\\t')"
   ]
  },
  {
   "cell_type": "code",
   "execution_count": 27,
   "id": "d1d43b53",
   "metadata": {},
   "outputs": [],
   "source": [
    "annotated_udn_X_denovo=annotated_udn_X_denovo.iloc[0:657,]"
   ]
  },
  {
   "cell_type": "markdown",
   "id": "b46c2398",
   "metadata": {},
   "source": [
    "### Check how many significant genes can't be found in either gene-disease map or gene-pheno map"
   ]
  },
  {
   "cell_type": "code",
   "execution_count": 105,
   "id": "ec58e5c9",
   "metadata": {},
   "outputs": [],
   "source": [
    "unique_ensembl_in_gene_pheno=[]\n",
    "for gene in gene_pheno[1]:\n",
    "    if gene not in unique_ensembl_in_gene_pheno:\n",
    "        unique_ensembl_in_gene_pheno.append(gene)\n",
    "        "
   ]
  },
  {
   "cell_type": "code",
   "execution_count": 122,
   "id": "6ea8e175",
   "metadata": {},
   "outputs": [],
   "source": [
    "unique_ensembl_in_gene_disease=[]\n",
    "for gene in dis_gene[0]:\n",
    "    if gene not in unique_ensembl_in_gene_disease:\n",
    "        unique_ensembl_in_gene_disease.append(gene)"
   ]
  },
  {
   "cell_type": "code",
   "execution_count": 130,
   "id": "cb17304a",
   "metadata": {},
   "outputs": [
    {
     "name": "stdout",
     "output_type": "stream",
     "text": [
      "437 genes can't be found in either map\n"
     ]
    }
   ],
   "source": [
    "missing_gene_in_gene_pheno=[]\n",
    "for gene in annotated_udn_X_denovo[\"ensembl_id\"]:\n",
    "    if (gene in unique_ensembl_in_gene_pheno or gene in unique_ensembl_in_gene_disease)==False:\n",
    "        missing_gene_in_gene_pheno.append(gene)\n",
    "\n",
    "print(len(missing_gene_in_gene_pheno),\"genes can't be found in either map\")"
   ]
  },
  {
   "cell_type": "code",
   "execution_count": 28,
   "id": "9cf0e491",
   "metadata": {},
   "outputs": [],
   "source": [
    "gene_patient_dict={}\n",
    "for i in range(len(annotated_udn_X_denovo)):\n",
    "    gene_patient_dict[annotated_udn_X_denovo[\"ensembl_id\"][i]]=annotated_udn_X_denovo[\"udn_id\"][i].split(\"|\")"
   ]
  },
  {
   "cell_type": "code",
   "execution_count": 30,
   "id": "5f4f8403",
   "metadata": {},
   "outputs": [],
   "source": [
    "#Compute gene_patient phrank score\n",
    "empty_hpo_ids=[\"UDN258701\",\"UDN760284\",\"UDN102677\",\"UDN770442\"]\n",
    "phrank_score_gene_patient={}\n",
    "for gene, patients in gene_patient_dict.items():\n",
    "    phrank_score_gene_patient[gene]=[]\n",
    "    patient_genes = set([gene])\n",
    "    #print(\"Gene: \"+str(gene))\n",
    "    for patient in patients:\n",
    "        if patient in empty_hpo_ids:\n",
    "            continue\n",
    "        #print(\"Patient: \"+patient)\n",
    "        patient_phenotypes = pheno_dict[patient][0].split(',')\n",
    "\n",
    "        # sorting the disease by best match\n",
    "        disease_ranking = p_hpo.rank_diseases(patient_genes, patient_phenotypes)\n",
    "        #print (\"Disease ranking\")\n",
    "        #for disease_info in disease_ranking:\n",
    "            #print (\"disease id: %s\\tsimilarity score: %.2f\"%(disease_info[1],disease_info[0]))\n",
    "\n",
    "        # sorting the genes by best match\n",
    "        gene_ranking = p_hpo.rank_genes(patient_genes, patient_phenotypes,normalized=True)\n",
    "        #print (\"Gene ranking\")\n",
    "        for gene_info in gene_ranking:\n",
    "            #print (\"ensembl gene id: %s\\tsimilarity score: %.2f\"%(gene_info[1],gene_info[0]))\n",
    "            phrank_score_gene_patient[gene].append([patient,gene_info[0]])\n",
    "        #print('\\n')\n",
    "        "
   ]
  },
  {
   "cell_type": "code",
   "execution_count": 31,
   "id": "9e67f386",
   "metadata": {},
   "outputs": [
    {
     "data": {
      "text/plain": [
       "[('ENSG00000255823', []),\n",
       " ('ENSG00000272333',\n",
       "  [['UDN187074', 0.0704186827310182],\n",
       "   ['UDN306319', 0.0704186827310182],\n",
       "   ['UDN067966', 0.32602262572271745],\n",
       "   ['UDN021466', 0.2961372406948136]]),\n",
       " ('ENSG00000141837',\n",
       "  [['UDN101955', 0.5958376673770781],\n",
       "   ['UDN480462', 0.25258967113258657],\n",
       "   ['UDN893258', 0.3757175745310793]]),\n",
       " ('ENSG00000115216', []),\n",
       " ('ENSG00000145348',\n",
       "  [['UDN177234', 0.1565576523978795], ['UDN287604', 0.3215755508337502]])]"
      ]
     },
     "execution_count": 31,
     "metadata": {},
     "output_type": "execute_result"
    }
   ],
   "source": [
    "list(phrank_score_gene_patient.items())[0:5]"
   ]
  },
  {
   "cell_type": "code",
   "execution_count": 140,
   "id": "aca99840",
   "metadata": {},
   "outputs": [
    {
     "name": "stdout",
     "output_type": "stream",
     "text": [
      "451 significant genes don't have gene-patient phrank score.\n"
     ]
    }
   ],
   "source": [
    "count=0\n",
    "for key in phrank_score_gene_patient.keys():\n",
    "    if phrank_score_gene_patient[key]==[]:\n",
    "        count+=1\n",
    "        \n",
    "print(count,\"significant genes don't have gene-patient phrank score.\")"
   ]
  },
  {
   "cell_type": "markdown",
   "id": "4ab1ef8a",
   "metadata": {},
   "source": [
    "## Plot correlation between gene-patient phrank score and p-value generated by DeNovoWEST for each gene"
   ]
  },
  {
   "cell_type": "code",
   "execution_count": 68,
   "id": "7b1f615e",
   "metadata": {},
   "outputs": [],
   "source": [
    "from itertools import repeat\n",
    "x_gene_patient_phrank_score=[]\n",
    "y_gene_p_value=[]\n",
    "for index, gene in enumerate(phrank_score_gene_patient.keys()):\n",
    "    if phrank_score_gene_patient[gene] != []:\n",
    "        for pat in phrank_score_gene_patient[gene]:\n",
    "            x_gene_patient_phrank_score.append(pat[1])\n",
    "        p_value=annotated_udn_X_denovo['p-value'][index]\n",
    "        y_gene_p_value.extend(repeat(p_value,len(phrank_score_gene_patient[gene])))"
   ]
  },
  {
   "cell_type": "code",
   "execution_count": 143,
   "id": "74c7dc44",
   "metadata": {},
   "outputs": [
    {
     "data": {
      "text/plain": [
       "count    246.000000\n",
       "mean       0.179965\n",
       "std        0.147762\n",
       "min        0.000016\n",
       "25%        0.070779\n",
       "50%        0.148166\n",
       "75%        0.252283\n",
       "max        0.752210\n",
       "dtype: float64"
      ]
     },
     "execution_count": 143,
     "metadata": {},
     "output_type": "execute_result"
    }
   ],
   "source": [
    "pd.Series(x_gene_patient_phrank_score).describe()"
   ]
  },
  {
   "cell_type": "code",
   "execution_count": 96,
   "id": "04cb45c8",
   "metadata": {},
   "outputs": [
    {
     "name": "stdout",
     "output_type": "stream",
     "text": [
      "slope:  5.00421468880469\n"
     ]
    },
    {
     "data": {
      "text/plain": [
       "Text(0, 0.5, 'P-value of significant gene')"
      ]
     },
     "execution_count": 96,
     "metadata": {},
     "output_type": "execute_result"
    },
    {
     "data": {
      "image/png": "[encoded data removed]",
      "text/plain": [
       "<Figure size 432x288 with 1 Axes>"
      ]
     },
     "metadata": {
      "needs_background": "light"
     },
     "output_type": "display_data"
    }
   ],
   "source": [
    "import math\n",
    "#y_gene_p_value=[]\n",
    "coef = np.polyfit(x_gene_patient_phrank_score,[-1*math.log10(a) for a in y_gene_p_value],1)\n",
    "print(\"slope: \",coef[1])\n",
    "poly1d_fn = np.poly1d(coef) \n",
    "plt.plot(x_gene_patient_phrank_score,[-1*math.log10(a) for a in y_gene_p_value],'yo', x_gene_patient_phrank_score,poly1d_fn(x_gene_patient_phrank_score))\n",
    "plt.xlabel(\"Phrank score between gene and patient\")\n",
    "plt.ylabel(\"P-value of significant gene\")\n"
   ]
  },
  {
   "cell_type": "markdown",
   "id": "7c45b970",
   "metadata": {},
   "source": [
    "# Self-invented algorithm to group patients based on phrank score"
   ]
  },
  {
   "cell_type": "code",
   "execution_count": 96,
   "id": "2182fdd1",
   "metadata": {},
   "outputs": [],
   "source": [
    "#group patients\n",
    "#no threshold\n",
    "\n",
    "def generate_similar_groups_no_threshold(similar_groups, ave_score_edge_num, similar_pair, key_list, val_list, percent, cut_off_list,sd):\n",
    "    for num, pair in enumerate(similar_pair):\n",
    "        group_id=0\n",
    "        print(\"pair \"+str(pair))\n",
    "        ave_score_decrement=[]\n",
    "        while group_id < len(similar_groups):\n",
    "            group=similar_groups[group_id]\n",
    "            patient0=list(pair)[0]\n",
    "            patient1=list(pair)[1]\n",
    "            if patient0+'_'+patient1 in key_list:\n",
    "                key=patient0+'_'+patient1\n",
    "            else:\n",
    "                key=patient1+'_'+patient0\n",
    "                \n",
    "            if patient0 in group and patient1 in group:#both patients are in the existing group\n",
    "                break#proceed to next pair\n",
    "            \n",
    "            elif patient0 not in group and patient1 not in group:#both patients are not in the existing group\n",
    "                ave_score_decrement.append(100)#assign a large number as the ave_score_decrement\n",
    "                    \n",
    "                if group_id == len(similar_groups)-1:#if reach the last group (have looped through all groups)\n",
    "                    if min(ave_score_decrement)==100:\n",
    "                        similar_groups.append(pair)\n",
    "                        ave_score_edge_num.append([val_list[key_list.index(key)],1])\n",
    "                        cut_off_list.append(val_list[key_list.index(key)]-3*sd)\n",
    "                    else:\n",
    "                        group_index=ave_score_decrement.index(min(ave_score_decrement))\n",
    "                        similar_groups[group_index] = similar_groups[group_index].union(pair)\n",
    "                        ave_score_edge_num[group_index][0]-=ave_score_decrement[group_index]\n",
    "                        ave_score_edge_num[group_index][1]=len(similar_groups[group_index])*(len(similar_groups[group_index])-1)/2\n",
    "                    break\n",
    "                else:\n",
    "                    group_id+=1\n",
    "                    continue\n",
    "                    \n",
    "            elif patient0 in group and patient1 not in group:#one of the patients in the existing group\n",
    "                alt_patient=patient1\n",
    "            else:\n",
    "                alt_patient=patient0\n",
    "                \n",
    "            scores_to_add=0\n",
    "            for exist_patient in list(group):\n",
    "                query_pair1=alt_patient+'_'+exist_patient\n",
    "                query_pair2=exist_patient+'_'+alt_patient\n",
    "                if query_pair1 in key_list:\n",
    "                    position=key_list.index(query_pair1)\n",
    "                    scores_to_add+=val_list[position]\n",
    "                elif query_pair2 in key_list:\n",
    "                    position=key_list.index(query_pair2)\n",
    "                    scores_to_add+=val_list[position]\n",
    "            new_ave_score=(ave_score_edge_num[group_id][0]*ave_score_edge_num[group_id][1]+scores_to_add)/(ave_score_edge_num[group_id][1]+len(group))\n",
    "            #if the new average score after adding the new patient will not decrease the initial average score by \n",
    "            #more than usered-specific ## percent and the new average score will not drop below the user-specific cutoff\n",
    "            if new_ave_score>percent*ave_score_edge_num[group_id][0] and new_ave_score>cut_off_list[group_id]:\n",
    "                ave_score_decrement.append(ave_score_edge_num[group_id][0]-new_ave_score)\n",
    "            else:\n",
    "                ave_score_decrement.append(100)\n",
    "                \n",
    "            if group_id == len(similar_groups)-1:\n",
    "                if min(ave_score_decrement)==100:\n",
    "                    similar_groups.append(pair)\n",
    "                    ave_score_edge_num.append([val_list[key_list.index(key)],1])\n",
    "                    cut_off_list.append(val_list[key_list.index(key)]-3*sd)\n",
    "                else:\n",
    "                    group_index=ave_score_decrement.index(min(ave_score_decrement))\n",
    "                    similar_groups[group_index] = similar_groups[group_index].union(pair)\n",
    "                    ave_score_edge_num[group_index][0]-=ave_score_decrement[group_index]\n",
    "                    ave_score_edge_num[group_index][1]=len(similar_groups[group_index])*(len(similar_groups[group_index])-1)/2\n",
    "                break\n",
    "            else:\n",
    "                group_id+=1\n",
    "            \n",
    "    return similar_groups, ave_score_edge_num\n"
   ]
  },
  {
   "cell_type": "code",
   "execution_count": 53,
   "id": "bc4b7325",
   "metadata": {},
   "outputs": [],
   "source": [
    "scaled_similar_groups=[scaled_similar_pair[0]]\n",
    "print(scaled_similar_groups)\n",
    "p0=list(scaled_similar_pair[0])[1]\n",
    "p1=list(scaled_similar_pair[0])[0]\n",
    "sd=0.0556\n",
    "scaled_ave_score_edge_num=[[top5_sorted_scaled_simi_score[p0+\"_\"+p1],1]]\n",
    "cut_off_list=[scaled_ave_score_edge_num[0][0]-3*sd]\n",
    "percent=0.8\n",
    "\n",
    "scaled_similar_groups,scaled_ave_score_edge_num=generate_similar_groups_no_threshold(scaled_similar_groups, scaled_ave_score_edge_num, scaled_similar_pair, list(top5_sorted_scaled_simi_score.keys()), list(top5_sorted_scaled_simi_score.values()), percent,cut_off_list,sd)\n",
    "#print('\\n')\n",
    "#print(\"scaled similar_groups: \"+str(scaled_similar_groups))\n",
    "#print(\"scaled ave_score_edge_num: \"+str(scaled_ave_score_edge_num))\n"
   ]
  },
  {
   "cell_type": "markdown",
   "id": "30fbdaf4",
   "metadata": {},
   "source": []
  },
  {
   "cell_type": "code",
   "execution_count": 51,
   "id": "0666038a",
   "metadata": {},
   "outputs": [],
   "source": [
    "#A&B>90 AND B&C>90 AND A&C>90--> {A,B,C}\n",
    "\n",
    "def union_similar_patients(pair,in_group_index,group,similar_groups,group_id,key_list,val_list,threshold):\n",
    "    indicator=0\n",
    "    if in_group_index ==0:\n",
    "        alt_patient=list(pair)[1]\n",
    "    else:\n",
    "        alt_patient=list(pair)[0]\n",
    "    for exist_patient in list(group):\n",
    "        query_pair1=alt_patient+'_'+exist_patient\n",
    "        query_pair2=exist_patient+'_'+alt_patient\n",
    "        if query_pair1 in key_list:\n",
    "            position=key_list.index(query_pair1)\n",
    "        elif query_pair2 in key_list:\n",
    "            position=key_list.index(query_pair2)\n",
    "\n",
    "        if val_list[position]<threshold:\n",
    "            break\n",
    "        if exist_patient==list(group)[len(group)-1]:#all pair-wise simi score >90\n",
    "                similar_groups[group_id] = group.union(pair)\n",
    "                indicator=1\n",
    "    return similar_groups,indicator\n",
    "        \n",
    "def generate_similar_groups_plus_threshold(similar_groups, similar_pair,key_list,val_list,threshold):\n",
    "    for pair in similar_pair:\n",
    "        group_id=0\n",
    "        while group_id < len(similar_groups):\n",
    "            group=similar_groups[group_id]\n",
    "            patient0=list(pair)[0]\n",
    "            patient1=list(pair)[1]\n",
    "            if patient0 in group and patient1 not in group:\n",
    "                similar_groups,indicator=union_similar_patients(pair,0,group,similar_groups,group_id,key_list,val_list,threshold)\n",
    "                if indicator ==1:\n",
    "                    break\n",
    "                else:\n",
    "                    if group_id == len(similar_groups)-1:\n",
    "                        similar_groups.append(pair)\n",
    "                        break\n",
    "                    else:\n",
    "                        group_id+=1\n",
    "                \n",
    "            elif patient1 in group and patient0 not in group:\n",
    "                similar_groups,indicator=union_similar_patients(pair,1,group,similar_groups,group_id,key_list,val_list,threshold)\n",
    "                if indicator ==1:\n",
    "                    break\n",
    "                else:\n",
    "                    if group_id == len(similar_groups)-1:\n",
    "                        similar_groups.append(pair)\n",
    "                        break\n",
    "                    else:\n",
    "                        group_id+=1\n",
    "                \n",
    "            elif patient0 in group and patient1 in group:\n",
    "                break\n",
    "            else:\n",
    "                #print(\"two patients not in group\")\n",
    "                similar_groups,indicator1=union_similar_patients(pair,0,group,similar_groups,group_id,key_list,val_list,threshold)\n",
    "                similar_groups,indicator2=union_similar_patients(pair,1,group,similar_groups,group_id,key_list,val_list,threshold)\n",
    "                if indicator1==1 & indicator2==1:\n",
    "                    break\n",
    "                if group_id == len(similar_groups)-1:\n",
    "                    similar_groups.append(pair)\n",
    "                    break\n",
    "                else:\n",
    "                    group_id+=1\n",
    "    return similar_groups\n",
    "\n",
    "similar_groups=[similar_pair[0]]\n",
    "similar_groups=generate_similar_groups_plus_threshold(similar_groups,similar_pair,key_list,val_list,45)\n",
    "print('\\n')\n",
    "print(\"similar_groups: \"+str(similar_groups))  "
   ]
  },
  {
   "cell_type": "code",
   "execution_count": 52,
   "id": "994fe70e",
   "metadata": {},
   "outputs": [],
   "source": [
    "scaled_similar_groups=[scaled_similar_pair[0]]\n",
    "scaled_similar_groups=generate_similar_groups_plus_threshold(scaled_similar_groups,scaled_similar_pair,scaled_key_list,scaled_val_list,0.3)\n",
    "print('\\n')\n",
    "print(\"scaled similar_groups: \"+str(scaled_similar_groups))  "
   ]
  },
  {
   "cell_type": "code",
   "execution_count": 48,
   "id": "9db67075",
   "metadata": {},
   "outputs": [
    {
     "name": "stdout",
     "output_type": "stream",
     "text": [
      "similar_groups before merge: [{'UDN679700', 'UDN731209', 'UDN908105', 'UDN264668', 'UDN207423', 'UDN055658', 'UDN806854', 'UDN350613', 'UDN483030', 'UDN565695', 'UDN849344', 'UDN101955', 'UDN049434', 'UDN809795', 'UDN021466', 'UDN388987', 'UDN817437', 'UDN879158', 'UDN226420', 'UDN604960', 'UDN574234', 'UDN789579', 'UDN429873', 'UDN348954', 'UDN929405', 'UDN140915', 'UDN658306', 'UDN338723', 'UDN426473', 'UDN787413', 'UDN293334'}, {'UDN929405', 'UDN565695', 'UDN140915', 'UDN101955', 'UDN021466'}, {'UDN849344', 'UDN348954', 'UDN817437'}]\n",
      "similar_groups after merge: [{'UDN679700', 'UDN731209', 'UDN908105', 'UDN264668', 'UDN207423', 'UDN055658', 'UDN806854', 'UDN350613', 'UDN483030', 'UDN565695', 'UDN849344', 'UDN101955', 'UDN049434', 'UDN809795', 'UDN021466', 'UDN388987', 'UDN817437', 'UDN879158', 'UDN226420', 'UDN604960', 'UDN574234', 'UDN789579', 'UDN429873', 'UDN348954', 'UDN929405', 'UDN140915', 'UDN658306', 'UDN338723', 'UDN426473', 'UDN787413', 'UDN293334'}]\n"
     ]
    }
   ],
   "source": [
    "#A&B>90 AND B&C>90 --> {A,B,C}\n",
    "\n",
    "def generate_similar_groups(similar_groups,similar_pair,merge=True):\n",
    "    for pair in similar_pair:\n",
    "        group_id=0\n",
    "        while group_id < len(similar_groups):\n",
    "            group=similar_groups[group_id]\n",
    "            if any(patient in group for patient in pair):\n",
    "                similar_groups[group_id] = group.union(pair)\n",
    "                indicator=1\n",
    "                break\n",
    "            \n",
    "            if group_id == len(similar_groups)-1:\n",
    "                similar_groups.append(pair)\n",
    "                #print(similar_groups)\n",
    "                break\n",
    "            group_id+=1\n",
    "        \n",
    "    #print(\"similar_groups before merge: \"+str(similar_groups))\n",
    "    \n",
    "    #merge groups\n",
    "    if merge ==True:\n",
    "        group_id=0\n",
    "        while group_id < len(similar_groups)-1:\n",
    "            indicator=0\n",
    "            cur_group=similar_groups[group_id]\n",
    "    \n",
    "            for following_id in range(group_id+1, len(similar_groups)):\n",
    "                \n",
    "                following_group=similar_groups[following_id]\n",
    "                \n",
    "                if any(ele in cur_group for ele in following_group):\n",
    "                    similar_groups[group_id]=cur_group.union(following_group)\n",
    "                    similar_groups.remove(following_group)\n",
    "                    group_id=0\n",
    "                    indicator=1\n",
    "                    break\n",
    "            if indicator==0:\n",
    "                group_id+=1\n",
    "    \n",
    "    #print(\"similar_groups after merge: \"+str(similar_groups)) \n",
    "    return similar_groups\n",
    "\n",
    "similar_groups=[similar_pair[0]]\n",
    "similar_groups_nomerge=generate_similar_groups(similar_groups,similar_pair,merge=False)\n",
    "similar_groups=[similar_pair[0]]\n",
    "similar_groups_merge=generate_similar_groups(similar_groups,similar_pair,merge=True)\n",
    "#print('\\n')\n",
    "print(\"similar_groups before merge: \"+str(similar_groups_nomerge))\n",
    "print(\"similar_groups after merge: \"+str(similar_groups_merge))"
   ]
  },
  {
   "cell_type": "code",
   "execution_count": 125,
   "id": "ab3354c3",
   "metadata": {
    "scrolled": true
   },
   "outputs": [
    {
     "name": "stdout",
     "output_type": "stream",
     "text": [
      "scaled similar_groups before merge: [{'UDN731209', 'UDN226420', 'UDN338723', 'UDN429873'}, {'UDN426473', 'UDN264668', 'UDN207423', 'UDN177234', 'UDN789579', 'UDN775476', 'UDN021466', 'UDN849344', 'UDN565695', 'UDN140915', 'UDN101955', 'UDN550179', 'UDN335659', 'UDN338797', 'UDN817437', 'UDN291411'}, {'UDN207423', 'UDN348954', 'UDN021466', 'UDN849344', 'UDN140915', 'UDN335659', 'UDN426473', 'UDN817437'}, {'UDN789123', 'UDN929405', 'UDN565695', 'UDN140915', 'UDN101955', 'UDN021466', 'UDN879158'}, {'UDN081722', 'UDN345959'}, {'UDN500889', 'UDN154050'}, {'UDN984078', 'UDN221071', 'UDN265815', 'UDN010623', 'UDN737629', 'UDN151434', 'UDN378975', 'UDN823739'}, {'UDN426473', 'UDN264668'}, {'UDN406184', 'UDN418056'}, {'UDN008634', 'UDN287604'}, {'UDN184552', 'UDN122793'}, {'UDN191879', 'UDN454712'}, {'UDN457425', 'UDN431179'}, {'UDN523060', 'UDN970538'}]\n",
      "scaled similar_groups after merge: [{'UDN731209', 'UDN226420', 'UDN338723', 'UDN429873'}, {'UDN338797', 'UDN264668', 'UDN207423', 'UDN775476', 'UDN849344', 'UDN565695', 'UDN101955', 'UDN550179', 'UDN335659', 'UDN177234', 'UDN021466', 'UDN291411', 'UDN817437', 'UDN879158', 'UDN789123', 'UDN789579', 'UDN348954', 'UDN929405', 'UDN140915', 'UDN426473'}, {'UDN081722', 'UDN345959'}, {'UDN500889', 'UDN154050'}, {'UDN984078', 'UDN221071', 'UDN265815', 'UDN010623', 'UDN737629', 'UDN151434', 'UDN378975', 'UDN823739'}, {'UDN406184', 'UDN418056'}, {'UDN008634', 'UDN287604'}, {'UDN184552', 'UDN122793'}, {'UDN191879', 'UDN454712'}, {'UDN457425', 'UDN431179'}, {'UDN523060', 'UDN970538'}]\n"
     ]
    }
   ],
   "source": [
    "scaled_similar_groups=[scaled_similar_pair[0]]\n",
    "scaled_similar_groups_nomerge=generate_similar_groups(scaled_similar_groups,scaled_similar_pair,merge=False)\n",
    "scaled_similar_groups=[scaled_similar_pair[0]]\n",
    "scaled_similar_groups_merge=generate_similar_groups(scaled_similar_groups,scaled_similar_pair,merge=True)\n",
    "#print('\\n')\n",
    "print(\"scaled similar_groups before merge: \"+str(scaled_similar_groups_nomerge))\n",
    "print(\"scaled similar_groups after merge: \"+str(scaled_similar_groups_merge))"
   ]
  },
  {
   "cell_type": "code",
   "execution_count": null,
   "id": "924f2750",
   "metadata": {},
   "outputs": [],
   "source": []
  }
 ],
 "metadata": {
  "kernelspec": {
   "display_name": "Python 3 (ipykernel)",
   "language": "python",
   "name": "python3"
  },
  "language_info": {
   "codemirror_mode": {
    "name": "ipython",
    "version": 3
   },
   "file_extension": ".py",
   "mimetype": "text/x-python",
   "name": "python",
   "nbconvert_exporter": "python",
   "pygments_lexer": "ipython3",
   "version": "3.9.10"
  }
 },
 "nbformat": 4,
 "nbformat_minor": 5
}
